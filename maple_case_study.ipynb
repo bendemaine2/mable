{
 "cells": [
  {
   "cell_type": "code",
   "execution_count": 225,
   "metadata": {},
   "outputs": [],
   "source": [
    "import pandas as pd\n",
    "import numpy as np\n",
    "import collections\n",
    "\n",
    "import scipy\n",
    "from scipy.stats import ttest_ind, mannwhitneyu\n",
    "from random import sample, seed\n",
    "# assume power analysis has been complete and that the sample size given is sufficient for this test\n",
    "# effect size - minimum size of the effect that you want to detect\n",
    "# power - probablility of detecting a given effect size TRUE POSITIVE\n",
    "# significanct level (alpha)"
   ]
  },
  {
   "cell_type": "code",
   "execution_count": 82,
   "metadata": {},
   "outputs": [
    {
     "data": {
      "text/html": [
       "<div>\n",
       "<style scoped>\n",
       "    .dataframe tbody tr th:only-of-type {\n",
       "        vertical-align: middle;\n",
       "    }\n",
       "\n",
       "    .dataframe tbody tr th {\n",
       "        vertical-align: top;\n",
       "    }\n",
       "\n",
       "    .dataframe thead th {\n",
       "        text-align: right;\n",
       "    }\n",
       "</style>\n",
       "<table border=\"1\" class=\"dataframe\">\n",
       "  <thead>\n",
       "    <tr style=\"text-align: right;\">\n",
       "      <th></th>\n",
       "      <th>unique_id</th>\n",
       "      <th>test_group</th>\n",
       "      <th>booked</th>\n",
       "      <th>type_of_care</th>\n",
       "      <th>account_type</th>\n",
       "      <th>relationship_length_sought</th>\n",
       "      <th>schedule</th>\n",
       "    </tr>\n",
       "  </thead>\n",
       "  <tbody>\n",
       "    <tr>\n",
       "      <th>0</th>\n",
       "      <td>2WPVxZ0</td>\n",
       "      <td>Intervention</td>\n",
       "      <td>False</td>\n",
       "      <td>Disability Support</td>\n",
       "      <td>Self Managed</td>\n",
       "      <td>Ongoing</td>\n",
       "      <td>Flexible</td>\n",
       "    </tr>\n",
       "    <tr>\n",
       "      <th>1</th>\n",
       "      <td>2Wpgia8</td>\n",
       "      <td>Intervention</td>\n",
       "      <td>False</td>\n",
       "      <td>Disability Support</td>\n",
       "      <td>Self Managed</td>\n",
       "      <td>Ongoing</td>\n",
       "      <td>Specific</td>\n",
       "    </tr>\n",
       "    <tr>\n",
       "      <th>2</th>\n",
       "      <td>2WK9Bq4</td>\n",
       "      <td>Intervention</td>\n",
       "      <td>False</td>\n",
       "      <td>Other</td>\n",
       "      <td>Self Managed</td>\n",
       "      <td>Ongoing</td>\n",
       "      <td>Flexible</td>\n",
       "    </tr>\n",
       "    <tr>\n",
       "      <th>3</th>\n",
       "      <td>2Vv-cok</td>\n",
       "      <td>Intervention</td>\n",
       "      <td>False</td>\n",
       "      <td>Other</td>\n",
       "      <td>Self Managed</td>\n",
       "      <td>Once_Off</td>\n",
       "      <td>Flexible</td>\n",
       "    </tr>\n",
       "    <tr>\n",
       "      <th>4</th>\n",
       "      <td>2vRLGyQ</td>\n",
       "      <td>Control</td>\n",
       "      <td>True</td>\n",
       "      <td>Aged Care</td>\n",
       "      <td>Self Managed</td>\n",
       "      <td>Ongoing</td>\n",
       "      <td>Flexible</td>\n",
       "    </tr>\n",
       "  </tbody>\n",
       "</table>\n",
       "</div>"
      ],
      "text/plain": [
       "  unique_id    test_group  booked        type_of_care  account_type  \\\n",
       "0   2WPVxZ0  Intervention   False  Disability Support  Self Managed   \n",
       "1   2Wpgia8  Intervention   False  Disability Support  Self Managed   \n",
       "2   2WK9Bq4  Intervention   False               Other  Self Managed   \n",
       "3   2Vv-cok  Intervention   False               Other  Self Managed   \n",
       "4   2vRLGyQ       Control    True           Aged Care  Self Managed   \n",
       "\n",
       "  relationship_length_sought  schedule  \n",
       "0                    Ongoing  Flexible  \n",
       "1                    Ongoing  Specific  \n",
       "2                    Ongoing  Flexible  \n",
       "3                   Once_Off  Flexible  \n",
       "4                    Ongoing  Flexible  "
      ]
     },
     "execution_count": 82,
     "metadata": {},
     "output_type": "execute_result"
    }
   ],
   "source": [
    "#loading exercise file into DF (fm default directory)\n",
    "df = pd.read_csv('Senior Data Analyst Second Round Practical Exercise Data.csv')\n",
    "df.head()"
   ]
  },
  {
   "cell_type": "code",
   "execution_count": 66,
   "metadata": {},
   "outputs": [
    {
     "name": "stdout",
     "output_type": "stream",
     "text": [
      "<class 'pandas.core.frame.DataFrame'>\n",
      "RangeIndex: 299 entries, 0 to 298\n",
      "Data columns (total 7 columns):\n",
      " #   Column                      Non-Null Count  Dtype \n",
      "---  ------                      --------------  ----- \n",
      " 0   unique_id                   299 non-null    object\n",
      " 1   test_group                  299 non-null    object\n",
      " 2   booked                      299 non-null    bool  \n",
      " 3   type_of_care                299 non-null    object\n",
      " 4   account_type                299 non-null    object\n",
      " 5   relationship_length_sought  299 non-null    object\n",
      " 6   schedule                    299 non-null    object\n",
      "dtypes: bool(1), object(6)\n",
      "memory usage: 14.4+ KB\n"
     ]
    }
   ],
   "source": [
    "df.describe()\n",
    "#checking for missing values: the empty rows present in the csv have been removed in loading process: nill missing values\n",
    "#unique id is not unique\n",
    "df.info()"
   ]
  },
  {
   "cell_type": "code",
   "execution_count": 243,
   "metadata": {},
   "outputs": [],
   "source": [
    "# checking the number of duplicated unique_id's. 40 are present\n",
    "df.duplicated('unique_id').sum()\n",
    "df2 = df.drop_duplicates(subset =['unique_id'], keep = 'first')"
   ]
  },
  {
   "cell_type": "code",
   "execution_count": 241,
   "metadata": {},
   "outputs": [
    {
     "data": {
      "text/html": [
       "<div>\n",
       "<style scoped>\n",
       "    .dataframe tbody tr th:only-of-type {\n",
       "        vertical-align: middle;\n",
       "    }\n",
       "\n",
       "    .dataframe tbody tr th {\n",
       "        vertical-align: top;\n",
       "    }\n",
       "\n",
       "    .dataframe thead th {\n",
       "        text-align: right;\n",
       "    }\n",
       "</style>\n",
       "<table border=\"1\" class=\"dataframe\">\n",
       "  <thead>\n",
       "    <tr style=\"text-align: right;\">\n",
       "      <th>booked</th>\n",
       "      <th>False</th>\n",
       "      <th>True</th>\n",
       "      <th>total</th>\n",
       "      <th>pc_booked</th>\n",
       "    </tr>\n",
       "    <tr>\n",
       "      <th>test_group</th>\n",
       "      <th></th>\n",
       "      <th></th>\n",
       "      <th></th>\n",
       "      <th></th>\n",
       "    </tr>\n",
       "  </thead>\n",
       "  <tbody>\n",
       "    <tr>\n",
       "      <th>Control</th>\n",
       "      <td>102</td>\n",
       "      <td>47</td>\n",
       "      <td>149</td>\n",
       "      <td>31.543624</td>\n",
       "    </tr>\n",
       "    <tr>\n",
       "      <th>Intervention</th>\n",
       "      <td>98</td>\n",
       "      <td>52</td>\n",
       "      <td>150</td>\n",
       "      <td>34.666667</td>\n",
       "    </tr>\n",
       "  </tbody>\n",
       "</table>\n",
       "</div>"
      ],
      "text/plain": [
       "booked        False  True  total  pc_booked\n",
       "test_group                                 \n",
       "Control         102    47    149  31.543624\n",
       "Intervention     98    52    150  34.666667"
      ]
     },
     "execution_count": 241,
     "metadata": {},
     "output_type": "execute_result"
    }
   ],
   "source": [
    "summary_table = pd.crosstab(df.test_group,df.booked)\n",
    "summary_table['total'] = summary_table.sum(axis=1)\n",
    "summary_table['pc_booked'] = 100* summary_table[True]/ summary_table['total']\n",
    "summary_table"
   ]
  },
  {
   "cell_type": "code",
   "execution_count": 246,
   "metadata": {},
   "outputs": [
    {
     "data": {
      "text/html": [
       "<div>\n",
       "<style scoped>\n",
       "    .dataframe tbody tr th:only-of-type {\n",
       "        vertical-align: middle;\n",
       "    }\n",
       "\n",
       "    .dataframe tbody tr th {\n",
       "        vertical-align: top;\n",
       "    }\n",
       "\n",
       "    .dataframe thead th {\n",
       "        text-align: right;\n",
       "    }\n",
       "</style>\n",
       "<table border=\"1\" class=\"dataframe\">\n",
       "  <thead>\n",
       "    <tr style=\"text-align: right;\">\n",
       "      <th>booked</th>\n",
       "      <th>False</th>\n",
       "      <th>True</th>\n",
       "      <th>total</th>\n",
       "      <th>pc_booked</th>\n",
       "    </tr>\n",
       "    <tr>\n",
       "      <th>test_group</th>\n",
       "      <th></th>\n",
       "      <th></th>\n",
       "      <th></th>\n",
       "      <th></th>\n",
       "    </tr>\n",
       "  </thead>\n",
       "  <tbody>\n",
       "    <tr>\n",
       "      <th>Control</th>\n",
       "      <td>86</td>\n",
       "      <td>41</td>\n",
       "      <td>127</td>\n",
       "      <td>32.283465</td>\n",
       "    </tr>\n",
       "    <tr>\n",
       "      <th>Intervention</th>\n",
       "      <td>88</td>\n",
       "      <td>44</td>\n",
       "      <td>132</td>\n",
       "      <td>33.333333</td>\n",
       "    </tr>\n",
       "  </tbody>\n",
       "</table>\n",
       "</div>"
      ],
      "text/plain": [
       "booked        False  True  total  pc_booked\n",
       "test_group                                 \n",
       "Control          86    41    127  32.283465\n",
       "Intervention     88    44    132  33.333333"
      ]
     },
     "execution_count": 246,
     "metadata": {},
     "output_type": "execute_result"
    }
   ],
   "source": [
    "summary_table2 = pd.crosstab(df2.test_group,df2.booked)\n",
    "summary_table2['total'] = summary_table2.sum(axis=1)\n",
    "summary_table2['pc_booked'] = 100* summary_table2[True]/ summary_table2['total']\n",
    "summary_table2"
   ]
  },
  {
   "cell_type": "code",
   "execution_count": 213,
   "metadata": {},
   "outputs": [
    {
     "name": "stdout",
     "output_type": "stream",
     "text": [
      "3.1230425055928386\n"
     ]
    }
   ],
   "source": [
    "invtervention_value_count = summary_table.loc['Intervention','total']\n",
    "control_value_count = summary_table.loc['Control','total']\n",
    "ground_truth = summary_table.loc['Intervention','pc_booked'] - summary_table.loc['Control','pc_booked']\n",
    "print(ground_truth)"
   ]
  },
  {
   "cell_type": "code",
   "execution_count": 253,
   "metadata": {},
   "outputs": [],
   "source": [
    "control_values_slice = df[df.test_group == 'Control']\n",
    "intervention_values_slice = df[df.test_group == 'Intervention']\n",
    "\n",
    "control_values = control_values_slice['booked'].astype(int).to_numpy()\n",
    "intervention_values = intervention_values_slice['booked'].astype(int).to_numpy()\n",
    "all_values = df['booked'].astype(int).to_list()"
   ]
  },
  {
   "cell_type": "code",
   "execution_count": 254,
   "metadata": {},
   "outputs": [
    {
     "name": "stdout",
     "output_type": "stream",
     "text": [
      "p = 0.5673455997228845\n"
     ]
    }
   ],
   "source": [
    "stat, pvalue=mannwhitneyu(control_values, intervention_values)\n",
    "print('p =',pvalue)\n",
    "#This is not the same as a normality of data assumption. This assumption is saying that if we hypothetically repeated this test many times and computed the mean each time, then the distribution of mean is Normal. \n",
    "# This is called the Central Limit Theorem. It states that as you get more and more data points, the distribution of mean is more and more Normally distributed. "
   ]
  },
  {
   "cell_type": "code",
   "execution_count": 258,
   "metadata": {},
   "outputs": [
    {
     "name": "stdout",
     "output_type": "stream",
     "text": [
      "Zscore is -0.57, p-value is 0.568 (two tailed), 0.284 (one tailed)\n"
     ]
    }
   ],
   "source": [
    "zscore, prob = ttest_ind(control_values, intervention_values, equal_var=False)\n",
    "print(f\"Zscore is {zscore:0.2f}, p-value is {prob:0.3f} (two tailed), {prob/2:0.3f} (one tailed)\")"
   ]
  },
  {
   "cell_type": "code",
   "execution_count": 259,
   "metadata": {},
   "outputs": [
    {
     "name": "stdout",
     "output_type": "stream",
     "text": [
      "[-0.6666666666666714, -4.666666666666668, -2.0, -8.666666666666668, -3.333333333333332, 6.0, 0.6666666666666714, 2.0, -0.6666666666666714, 7.333333333333332]\n"
     ]
    }
   ],
   "source": [
    "permuntations = 10000 # number of permutations\n",
    "permuntations_results = [0]*permuntations # list for permuntation results\n",
    "\n",
    "for i in range(permuntations):\n",
    "    bag = sample(all_values, k=len(all_values)) # shuffle the bag\n",
    "    a_rs2 = bag[:invtervention_value_count]\n",
    "    b_rs2 = bag[invtervention_value_count:]\n",
    "    permuntations_results[i] = 100*sum(a_rs2)/invtervention_value_count - 100*sum(b_rs2)/invtervention_value_count\n",
    "\n",
    "print(permuntations_results[:10])"
   ]
  },
  {
   "cell_type": "code",
   "execution_count": 250,
   "metadata": {},
   "outputs": [
    {
     "name": "stdout",
     "output_type": "stream",
     "text": [
      " -22.000000  -20.666667  -19.333333  -18.000000  -16.666667  -15.333333  -14.000000  -12.666667  -11.333333  -10.000000  -8.666667   -7.333333   -6.000000   -4.666667   -3.333333   -2.000000   -0.666667    0.666667    2.000000    3.333333    4.666667    6.000000    7.333333    8.666667    10.000000   11.333333   12.666667   14.000000   15.333333   16.666667   18.000000   19.333333\n",
      "          1           2           1           4           8          15          39          68          91         183         253         385         509         655         774         912         992         935         928         802         707         587         420         287         188         108          84          28          15          10           8           1\n"
     ]
    }
   ],
   "source": [
    "permuntations_results_series = pd.Series(permuntations_results)\n",
    "print(pd.pivot_table(permuntations_results_series.value_counts().reset_index(),values=0,columns='index').to_string(index=False))"
   ]
  },
  {
   "cell_type": "code",
   "execution_count": 256,
   "metadata": {},
   "outputs": [
    {
     "name": "stdout",
     "output_type": "stream",
     "text": [
      "One=way: Extreme count:  3245 \n",
      "One-way: Extreme ratio (p-value): 0.3245\n",
      "3.1230425055928386\n"
     ]
    }
   ],
   "source": [
    "pos_extreme_count = sum(permuntations_results_series >= ground_truth)\n",
    "print('One=way: Extreme count: ', pos_extreme_count,'\\nOne-way: Extreme ratio (p-value):', pos_extreme_count / permuntations)\n",
    "print(ground_truth)"
   ]
  }
 ],
 "metadata": {
  "interpreter": {
   "hash": "10f6624839bce9438640cddcc3799579e20d680ea30845a2387cdfb56b6d1d04"
  },
  "kernelspec": {
   "display_name": "Python 3.9.5 64-bit ('api_env': conda)",
   "language": "python",
   "name": "python3"
  },
  "language_info": {
   "codemirror_mode": {
    "name": "ipython",
    "version": 3
   },
   "file_extension": ".py",
   "mimetype": "text/x-python",
   "name": "python",
   "nbconvert_exporter": "python",
   "pygments_lexer": "ipython3",
   "version": "3.9.5"
  },
  "orig_nbformat": 4
 },
 "nbformat": 4,
 "nbformat_minor": 2
}
