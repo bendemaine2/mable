{
 "cells": [
  {
   "cell_type": "markdown",
   "metadata": {},
   "source": [
    "# Split test analysis: Matchmaker dashboard\n",
    "This notebook details an analysis of the matchmaker dashboard split test. The test split users randomly between the current carer match results in a list format (the control group) and a newly designed dashboard (intervention group).\n",
    "## Hypothesis\n",
    "The purpose of the test is to determine whether the booking rate (the % of users who booked) was higher in the intervetion group than the control group. The hypothesis test is set up as follows.\n",
    "- The null hypothesis is that the intervention group is not higher:\n",
    "    - Intervention booking rate <= Control booking rate\n",
    "- The alternate hypothesis is that the intervention group is higher:\n",
    "    - Intervention booking rate > Control booking rate\n",
    "## Step 1: Cleaning and preparation"
   ]
  },
  {
   "cell_type": "code",
   "execution_count": 3,
   "metadata": {},
   "outputs": [],
   "source": [
    "# importing packages\n",
    "import pandas as pd\n",
    "import numpy as np\n",
    "import seaborn as sns\n",
    "import statsmodels.stats.api as sms\n",
    "import matplotlib.pyplot as plt\n",
    "import scipy.stats as stats\n",
    "from statsmodels.stats.proportion import proportions_ztest, proportion_confint\n",
    "from scipy.stats import ttest_ind\n",
    "from random import sample\n",
    "from math import ceil\n",
    "from tabulate import tabulate"
   ]
  },
  {
   "cell_type": "code",
   "execution_count": 6,
   "metadata": {},
   "outputs": [
    {
     "data": {
      "text/html": [
       "<div>\n",
       "<style scoped>\n",
       "    .dataframe tbody tr th:only-of-type {\n",
       "        vertical-align: middle;\n",
       "    }\n",
       "\n",
       "    .dataframe tbody tr th {\n",
       "        vertical-align: top;\n",
       "    }\n",
       "\n",
       "    .dataframe thead th {\n",
       "        text-align: right;\n",
       "    }\n",
       "</style>\n",
       "<table border=\"1\" class=\"dataframe\">\n",
       "  <thead>\n",
       "    <tr style=\"text-align: right;\">\n",
       "      <th></th>\n",
       "      <th>unique_id</th>\n",
       "      <th>test_group</th>\n",
       "      <th>booked</th>\n",
       "      <th>type_of_care</th>\n",
       "      <th>account_type</th>\n",
       "      <th>relationship_length_sought</th>\n",
       "      <th>schedule</th>\n",
       "    </tr>\n",
       "  </thead>\n",
       "  <tbody>\n",
       "    <tr>\n",
       "      <th>0</th>\n",
       "      <td>2WPVxZ0</td>\n",
       "      <td>Intervention</td>\n",
       "      <td>False</td>\n",
       "      <td>Disability Support</td>\n",
       "      <td>Self Managed</td>\n",
       "      <td>Ongoing</td>\n",
       "      <td>Flexible</td>\n",
       "    </tr>\n",
       "    <tr>\n",
       "      <th>1</th>\n",
       "      <td>2Wpgia8</td>\n",
       "      <td>Intervention</td>\n",
       "      <td>False</td>\n",
       "      <td>Disability Support</td>\n",
       "      <td>Self Managed</td>\n",
       "      <td>Ongoing</td>\n",
       "      <td>Specific</td>\n",
       "    </tr>\n",
       "    <tr>\n",
       "      <th>2</th>\n",
       "      <td>2WK9Bq4</td>\n",
       "      <td>Intervention</td>\n",
       "      <td>False</td>\n",
       "      <td>Other</td>\n",
       "      <td>Self Managed</td>\n",
       "      <td>Ongoing</td>\n",
       "      <td>Flexible</td>\n",
       "    </tr>\n",
       "    <tr>\n",
       "      <th>3</th>\n",
       "      <td>2Vv-cok</td>\n",
       "      <td>Intervention</td>\n",
       "      <td>False</td>\n",
       "      <td>Other</td>\n",
       "      <td>Self Managed</td>\n",
       "      <td>Once_Off</td>\n",
       "      <td>Flexible</td>\n",
       "    </tr>\n",
       "    <tr>\n",
       "      <th>4</th>\n",
       "      <td>2vRLGyQ</td>\n",
       "      <td>Control</td>\n",
       "      <td>True</td>\n",
       "      <td>Aged Care</td>\n",
       "      <td>Self Managed</td>\n",
       "      <td>Ongoing</td>\n",
       "      <td>Flexible</td>\n",
       "    </tr>\n",
       "    <tr>\n",
       "      <th>5</th>\n",
       "      <td>2VpFOP4</td>\n",
       "      <td>Control</td>\n",
       "      <td>True</td>\n",
       "      <td>Disability Support</td>\n",
       "      <td>Self Managed</td>\n",
       "      <td>Ongoing</td>\n",
       "      <td>Flexible</td>\n",
       "    </tr>\n",
       "    <tr>\n",
       "      <th>6</th>\n",
       "      <td>2VpFOP4</td>\n",
       "      <td>Control</td>\n",
       "      <td>True</td>\n",
       "      <td>Disability Support</td>\n",
       "      <td>Self Managed</td>\n",
       "      <td>Ongoing</td>\n",
       "      <td>Specific</td>\n",
       "    </tr>\n",
       "    <tr>\n",
       "      <th>7</th>\n",
       "      <td>2uq7kkU</td>\n",
       "      <td>Intervention</td>\n",
       "      <td>False</td>\n",
       "      <td>Aged Care</td>\n",
       "      <td>Self Managed</td>\n",
       "      <td>Ongoing</td>\n",
       "      <td>Specific</td>\n",
       "    </tr>\n",
       "    <tr>\n",
       "      <th>8</th>\n",
       "      <td>2umaI8U</td>\n",
       "      <td>Intervention</td>\n",
       "      <td>False</td>\n",
       "      <td>Disability Support</td>\n",
       "      <td>Self Managed</td>\n",
       "      <td>Ongoing</td>\n",
       "      <td>Specific</td>\n",
       "    </tr>\n",
       "    <tr>\n",
       "      <th>9</th>\n",
       "      <td>2UkVGy0</td>\n",
       "      <td>Intervention</td>\n",
       "      <td>True</td>\n",
       "      <td>Aged Care</td>\n",
       "      <td>Self Managed</td>\n",
       "      <td>Ongoing</td>\n",
       "      <td>Specific</td>\n",
       "    </tr>\n",
       "  </tbody>\n",
       "</table>\n",
       "</div>"
      ],
      "text/plain": [
       "  unique_id    test_group  booked        type_of_care  account_type  \\\n",
       "0   2WPVxZ0  Intervention   False  Disability Support  Self Managed   \n",
       "1   2Wpgia8  Intervention   False  Disability Support  Self Managed   \n",
       "2   2WK9Bq4  Intervention   False               Other  Self Managed   \n",
       "3   2Vv-cok  Intervention   False               Other  Self Managed   \n",
       "4   2vRLGyQ       Control    True           Aged Care  Self Managed   \n",
       "5   2VpFOP4       Control    True  Disability Support  Self Managed   \n",
       "6   2VpFOP4       Control    True  Disability Support  Self Managed   \n",
       "7   2uq7kkU  Intervention   False           Aged Care  Self Managed   \n",
       "8   2umaI8U  Intervention   False  Disability Support  Self Managed   \n",
       "9   2UkVGy0  Intervention    True           Aged Care  Self Managed   \n",
       "\n",
       "  relationship_length_sought  schedule  \n",
       "0                    Ongoing  Flexible  \n",
       "1                    Ongoing  Specific  \n",
       "2                    Ongoing  Flexible  \n",
       "3                   Once_Off  Flexible  \n",
       "4                    Ongoing  Flexible  \n",
       "5                    Ongoing  Flexible  \n",
       "6                    Ongoing  Specific  \n",
       "7                    Ongoing  Specific  \n",
       "8                    Ongoing  Specific  \n",
       "9                    Ongoing  Specific  "
      ]
     },
     "execution_count": 6,
     "metadata": {},
     "output_type": "execute_result"
    }
   ],
   "source": [
    "# loading the exercise file into a pandas dataframe (from the default directory) and previewing the data\n",
    "df = pd.read_csv('Senior Data Analyst Second Round Practical Exercise Data.csv')\n",
    "df.head(n=10)"
   ]
  },
  {
   "cell_type": "code",
   "execution_count": 10,
   "metadata": {},
   "outputs": [
    {
     "data": {
      "text/html": [
       "<div>\n",
       "<style scoped>\n",
       "    .dataframe tbody tr th:only-of-type {\n",
       "        vertical-align: middle;\n",
       "    }\n",
       "\n",
       "    .dataframe tbody tr th {\n",
       "        vertical-align: top;\n",
       "    }\n",
       "\n",
       "    .dataframe thead th {\n",
       "        text-align: right;\n",
       "    }\n",
       "</style>\n",
       "<table border=\"1\" class=\"dataframe\">\n",
       "  <thead>\n",
       "    <tr style=\"text-align: right;\">\n",
       "      <th></th>\n",
       "      <th>unique_id</th>\n",
       "      <th>test_group</th>\n",
       "      <th>booked</th>\n",
       "      <th>type_of_care</th>\n",
       "      <th>account_type</th>\n",
       "      <th>relationship_length_sought</th>\n",
       "      <th>schedule</th>\n",
       "    </tr>\n",
       "  </thead>\n",
       "  <tbody>\n",
       "    <tr>\n",
       "      <th>count</th>\n",
       "      <td>299</td>\n",
       "      <td>299</td>\n",
       "      <td>299</td>\n",
       "      <td>299</td>\n",
       "      <td>299</td>\n",
       "      <td>299</td>\n",
       "      <td>299</td>\n",
       "    </tr>\n",
       "    <tr>\n",
       "      <th>unique</th>\n",
       "      <td>259</td>\n",
       "      <td>2</td>\n",
       "      <td>2</td>\n",
       "      <td>5</td>\n",
       "      <td>2</td>\n",
       "      <td>2</td>\n",
       "      <td>2</td>\n",
       "    </tr>\n",
       "    <tr>\n",
       "      <th>top</th>\n",
       "      <td>2Q_Uvyw</td>\n",
       "      <td>Intervention</td>\n",
       "      <td>False</td>\n",
       "      <td>Disability Support</td>\n",
       "      <td>Self Managed</td>\n",
       "      <td>Ongoing</td>\n",
       "      <td>Specific</td>\n",
       "    </tr>\n",
       "    <tr>\n",
       "      <th>freq</th>\n",
       "      <td>2</td>\n",
       "      <td>150</td>\n",
       "      <td>200</td>\n",
       "      <td>186</td>\n",
       "      <td>282</td>\n",
       "      <td>241</td>\n",
       "      <td>168</td>\n",
       "    </tr>\n",
       "  </tbody>\n",
       "</table>\n",
       "</div>"
      ],
      "text/plain": [
       "       unique_id    test_group booked        type_of_care  account_type  \\\n",
       "count        299           299    299                 299           299   \n",
       "unique       259             2      2                   5             2   \n",
       "top      2Q_Uvyw  Intervention  False  Disability Support  Self Managed   \n",
       "freq           2           150    200                 186           282   \n",
       "\n",
       "       relationship_length_sought  schedule  \n",
       "count                         299       299  \n",
       "unique                          2         2  \n",
       "top                       Ongoing  Specific  \n",
       "freq                          241       168  "
      ]
     },
     "execution_count": 10,
     "metadata": {},
     "output_type": "execute_result"
    }
   ],
   "source": [
    "df.describe() "
   ]
  },
  {
   "cell_type": "markdown",
   "metadata": {},
   "source": [
    "There are no missing values in the dataset, however the unique_id is not unique with 259 unique values out of 299 records (40 users are duplicated). This is an issue becasue we care about the proportion of unique users who book and if a user is represented more than once we could be 'double counting' in our results.\n",
    "\n",
    "Displaying the duplicates:"
   ]
  },
  {
   "cell_type": "code",
   "execution_count": 15,
   "metadata": {},
   "outputs": [
    {
     "name": "stdout",
     "output_type": "stream",
     "text": [
      "+----+-------------+--------------+----------+--------------------+----------------+------------------------------+------------+\n",
      "|    | unique_id   | test_group   | booked   | type_of_care       | account_type   | relationship_length_sought   | schedule   |\n",
      "|----+-------------+--------------+----------+--------------------+----------------+------------------------------+------------|\n",
      "|  5 | 2VpFOP4     | Control      | True     | Disability Support | Self Managed   | Ongoing                      | Flexible   |\n",
      "|  6 | 2VpFOP4     | Control      | True     | Disability Support | Self Managed   | Ongoing                      | Specific   |\n",
      "| 15 | 2tCmEGE     | Control      | False    | Mental Health      | Self Managed   | Once_Off                     | Specific   |\n",
      "| 16 | 2tCmEGE     | Control      | False    | Mental Health      | Self Managed   | Ongoing                      | Flexible   |\n",
      "| 25 | 2qN6G9U     | Intervention | True     | Disability Support | Self Managed   | Ongoing                      | Flexible   |\n",
      "| 26 | 2qN6G9U     | Intervention | True     | Disability Support | Self Managed   | Ongoing                      | Specific   |\n",
      "| 29 | 2QcCzZs     | Intervention | False    | Disability Support | Self Managed   | Ongoing                      | Flexible   |\n",
      "| 30 | 2QcCzZs     | Intervention | False    | Disability Support | Self Managed   | Ongoing                      | Specific   |\n",
      "| 32 | 2Q_Uvyw     | Intervention | False    | Disability Support | Self Managed   | Ongoing                      | Flexible   |\n",
      "| 33 | 2Q_Uvyw     | Intervention | False    | Disability Support | Self Managed   | Ongoing                      | Specific   |\n",
      "+----+-------------+--------------+----------+--------------------+----------------+------------------------------+------------+\n"
     ]
    }
   ],
   "source": [
    "has_duplicate_id = df.duplicated('unique_id', keep = False) # returns true/false against the df index for duplicates of unique_id\n",
    "df_duplicate_ids = df[has_duplicate_id] # new dataframe sliced for duplicates of unique_id\n",
    "df_duplicate_ids.sort_values(by=['unique_id']) # sorted df by unique_id\n",
    "print(tabulate(df_duplicate_ids.head(10), headers = 'keys', tablefmt = 'psql')) "
   ]
  },
  {
   "cell_type": "markdown",
   "metadata": {},
   "source": [
    "Displaying where duplicated records are diferent:"
   ]
  },
  {
   "cell_type": "code",
   "execution_count": 16,
   "metadata": {},
   "outputs": [
    {
     "name": "stdout",
     "output_type": "stream",
     "text": [
      "+-------------+--------------+----------+----------------+----------------+------------------------------+------------+\n",
      "| unique_id   |   test_group |   booked |   type_of_care |   account_type |   relationship_length_sought |   schedule |\n",
      "|-------------+--------------+----------+----------------+----------------+------------------------------+------------|\n",
      "| 0MKWb_4     |            1 |        1 |              1 |              1 |                            2 |          2 |\n",
      "| 0QCBUrY     |            1 |        1 |              1 |              1 |                            2 |          2 |\n",
      "| 0SRr4XY     |            1 |        1 |              1 |              1 |                            1 |          2 |\n",
      "| 0YDjLjI     |            1 |        1 |              1 |              1 |                            2 |          2 |\n",
      "| 0aCzOGo     |            1 |        1 |              1 |              1 |                            1 |          2 |\n",
      "| 0k7mLCU     |            1 |        1 |              1 |              1 |                            1 |          2 |\n",
      "| 0mY51Io     |            1 |        1 |              1 |              1 |                            1 |          2 |\n",
      "| 0nCe1pE     |            1 |        1 |              1 |              1 |                            1 |          2 |\n",
      "| 0s2tJyc     |            1 |        1 |              1 |              1 |                            1 |          2 |\n",
      "| 0vUDNl4     |            1 |        1 |              1 |              1 |                            1 |          2 |\n",
      "| 1B-DMl4     |            1 |        1 |              1 |              1 |                            1 |          2 |\n",
      "| 1BcoLtA     |            1 |        1 |              1 |              1 |                            1 |          2 |\n",
      "| 1BevYp4     |            1 |        1 |              1 |              1 |                            2 |          2 |\n",
      "| 1IemLu8     |            1 |        1 |              1 |              1 |                            2 |          2 |\n",
      "| 1NUXAek     |            1 |        1 |              1 |              1 |                            2 |          2 |\n",
      "| 1O0OFLI     |            1 |        1 |              1 |              1 |                            1 |          2 |\n",
      "| 1R-4b-g     |            1 |        1 |              1 |              1 |                            1 |          2 |\n",
      "| 1RupGAI     |            2 |        1 |              1 |              1 |                            2 |          2 |\n",
      "| 1WQ8eMs     |            1 |        1 |              1 |              1 |                            1 |          2 |\n",
      "| 1Wx4EoM     |            1 |        1 |              1 |              1 |                            1 |          2 |\n",
      "| 1c3t18w     |            1 |        1 |              1 |              1 |                            2 |          2 |\n",
      "| 1pgIvc8     |            1 |        1 |              1 |              1 |                            1 |          2 |\n",
      "| 1w2fc0w     |            1 |        1 |              1 |              1 |                            1 |          2 |\n",
      "| 1wb0nbE     |            1 |        1 |              1 |              1 |                            2 |          2 |\n",
      "| 1zD9xfw     |            1 |        1 |              1 |              1 |                            1 |          2 |\n",
      "| 2-p8zc0     |            1 |        1 |              1 |              1 |                            1 |          2 |\n",
      "| 2AAOzIM     |            1 |        1 |              1 |              1 |                            1 |          2 |\n",
      "| 2D0YP8s     |            1 |        1 |              1 |              1 |                            2 |          2 |\n",
      "| 2EaNmQg     |            1 |        1 |              1 |              1 |                            2 |          2 |\n",
      "| 2LnsSH4     |            1 |        1 |              1 |              1 |                            2 |          2 |\n",
      "| 2N-CRMA     |            1 |        1 |              1 |              1 |                            1 |          2 |\n",
      "| 2ONZVsM     |            1 |        1 |              1 |              1 |                            2 |          2 |\n",
      "| 2Q_Uvyw     |            1 |        1 |              1 |              1 |                            1 |          2 |\n",
      "| 2QcCzZs     |            1 |        1 |              1 |              1 |                            1 |          2 |\n",
      "| 2VpFOP4     |            1 |        1 |              1 |              1 |                            1 |          2 |\n",
      "| 2bcC_Sw     |            1 |        1 |              1 |              1 |                            2 |          2 |\n",
      "| 2hsWV-0     |            1 |        1 |              1 |              1 |                            2 |          2 |\n",
      "| 2kVkrAs     |            1 |        1 |              1 |              1 |                            2 |          2 |\n",
      "| 2qN6G9U     |            1 |        1 |              1 |              1 |                            1 |          2 |\n",
      "| 2tCmEGE     |            1 |        1 |              1 |              1 |                            2 |          2 |\n",
      "+-------------+--------------+----------+----------------+----------------+------------------------------+------------+\n"
     ]
    }
   ],
   "source": [
    "duplicate_id_count = df_duplicate_ids.groupby(['unique_id']).nunique()\n",
    "print(tabulate(duplicate_id_count, headers = 'keys', tablefmt = 'psql'))"
   ]
  },
  {
   "cell_type": "markdown",
   "metadata": {},
   "source": [
    "Examining the duplicates* above confirms the following:\n",
    "1. There are 80 duplicates consisting of 40 unique_ids, each repeated twice. 22 of these ids are present in the control group and 18 in the intervention group.\n",
    "2. With exeption of unique_id (below), all column values (attributes) except 'relationship_lenght_sought' and 'schedule' are the same across duplicates i.e. it is only those two attributes that differ. The fact that the booked status is not different in these records is especially important because it makes these records usable against the metric of concern.\n",
    "    * It also means that it is unlikely that these duplicates represent seperate bookings but are rather repeated records about the same booking - perhaps where the user has selected different scheduling or relationship options during the course of the booking. \n",
    "3. One unique_id (1RupGAI) is present in both the control and intervention group. \n",
    "\n",
    "*It may be more correct to refer to these records as multiple user records rather than duplicates, but used for simplicity's sake."
   ]
  },
  {
   "cell_type": "code",
   "execution_count": 18,
   "metadata": {},
   "outputs": [],
   "source": [
    "test_group_id_dup_indexes = duplicate_id_count[duplicate_id_count['test_group'] > 1] # identifying ids present in both control and test group\n",
    "test_group_id_dup_indexes\n",
    "df_clean = df.drop(df[ df['unique_id'] == '1RupGAI'].index, inplace = True) # dropping offending unique id (hardcoded for now)\n",
    "# unique_id duplicates removed: since booking status is the same for all duplicated users, this ensures that user bookings are only counted once\n",
    "df_clean = df.drop_duplicates(subset =['unique_id'], keep = 'first') "
   ]
  },
  {
   "cell_type": "markdown",
   "metadata": {},
   "source": [
    "Cleaning steps undertaken:\n",
    "1. The id present in both test group and intervention group was dropped\n",
    "2. Duplicate records per user removed such that there is only one booking record per user"
   ]
  },
  {
   "cell_type": "code",
   "execution_count": 19,
   "metadata": {},
   "outputs": [
    {
     "data": {
      "text/html": [
       "<div>\n",
       "<style scoped>\n",
       "    .dataframe tbody tr th:only-of-type {\n",
       "        vertical-align: middle;\n",
       "    }\n",
       "\n",
       "    .dataframe tbody tr th {\n",
       "        vertical-align: top;\n",
       "    }\n",
       "\n",
       "    .dataframe thead th {\n",
       "        text-align: right;\n",
       "    }\n",
       "</style>\n",
       "<table border=\"1\" class=\"dataframe\">\n",
       "  <thead>\n",
       "    <tr style=\"text-align: right;\">\n",
       "      <th></th>\n",
       "      <th>unique_id</th>\n",
       "      <th>test_group</th>\n",
       "      <th>booked</th>\n",
       "      <th>type_of_care</th>\n",
       "      <th>account_type</th>\n",
       "      <th>relationship_length_sought</th>\n",
       "      <th>schedule</th>\n",
       "    </tr>\n",
       "  </thead>\n",
       "  <tbody>\n",
       "    <tr>\n",
       "      <th>count</th>\n",
       "      <td>258</td>\n",
       "      <td>258</td>\n",
       "      <td>258</td>\n",
       "      <td>258</td>\n",
       "      <td>258</td>\n",
       "      <td>258</td>\n",
       "      <td>258</td>\n",
       "    </tr>\n",
       "    <tr>\n",
       "      <th>unique</th>\n",
       "      <td>258</td>\n",
       "      <td>2</td>\n",
       "      <td>2</td>\n",
       "      <td>5</td>\n",
       "      <td>2</td>\n",
       "      <td>2</td>\n",
       "      <td>2</td>\n",
       "    </tr>\n",
       "    <tr>\n",
       "      <th>top</th>\n",
       "      <td>1T0OJZM</td>\n",
       "      <td>Intervention</td>\n",
       "      <td>False</td>\n",
       "      <td>Disability Support</td>\n",
       "      <td>Self Managed</td>\n",
       "      <td>Ongoing</td>\n",
       "      <td>Specific</td>\n",
       "    </tr>\n",
       "    <tr>\n",
       "      <th>freq</th>\n",
       "      <td>1</td>\n",
       "      <td>132</td>\n",
       "      <td>173</td>\n",
       "      <td>158</td>\n",
       "      <td>243</td>\n",
       "      <td>203</td>\n",
       "      <td>143</td>\n",
       "    </tr>\n",
       "  </tbody>\n",
       "</table>\n",
       "</div>"
      ],
      "text/plain": [
       "       unique_id    test_group booked        type_of_care  account_type  \\\n",
       "count        258           258    258                 258           258   \n",
       "unique       258             2      2                   5             2   \n",
       "top      1T0OJZM  Intervention  False  Disability Support  Self Managed   \n",
       "freq           1           132    173                 158           243   \n",
       "\n",
       "       relationship_length_sought  schedule  \n",
       "count                         258       258  \n",
       "unique                          2         2  \n",
       "top                       Ongoing  Specific  \n",
       "freq                          203       143  "
      ]
     },
     "execution_count": 19,
     "metadata": {},
     "output_type": "execute_result"
    }
   ],
   "source": [
    "df_clean.describe()"
   ]
  },
  {
   "cell_type": "markdown",
   "metadata": {},
   "source": [
    "## Step 2: Evaluation"
   ]
  },
  {
   "cell_type": "markdown",
   "metadata": {},
   "source": [
    "The aim of this test to determine whether the relative uplift of booking rate seen in the intervention group is statistically significant, and if so accept the alternate hypothesis. In other words we are looking to confirm, within a level of confidence, that the improvement seen is because of the changes we made rather than as a result of random chance. Our confidence level will be set at 95%, meaning that we wish to be 95% confident the results are not a result of random chance.The evaluation of the split test will be conducted via two methods: method 1 being a two-proportions-z-test and the second method being a permutations test.\n",
    "### Summarising results\n",
    "First we consider a summary of the results of the split test"
   ]
  },
  {
   "cell_type": "code",
   "execution_count": 20,
   "metadata": {},
   "outputs": [
    {
     "data": {
      "text/html": [
       "<div>\n",
       "<style scoped>\n",
       "    .dataframe tbody tr th:only-of-type {\n",
       "        vertical-align: middle;\n",
       "    }\n",
       "\n",
       "    .dataframe tbody tr th {\n",
       "        vertical-align: top;\n",
       "    }\n",
       "\n",
       "    .dataframe thead th {\n",
       "        text-align: right;\n",
       "    }\n",
       "</style>\n",
       "<table border=\"1\" class=\"dataframe\">\n",
       "  <thead>\n",
       "    <tr style=\"text-align: right;\">\n",
       "      <th></th>\n",
       "      <th>number_users</th>\n",
       "      <th>number_booked</th>\n",
       "      <th>booking_rate</th>\n",
       "      <th>std_error</th>\n",
       "      <th>std_dev</th>\n",
       "    </tr>\n",
       "    <tr>\n",
       "      <th>test_group</th>\n",
       "      <th></th>\n",
       "      <th></th>\n",
       "      <th></th>\n",
       "      <th></th>\n",
       "      <th></th>\n",
       "    </tr>\n",
       "  </thead>\n",
       "  <tbody>\n",
       "    <tr>\n",
       "      <th>Control</th>\n",
       "      <td>126</td>\n",
       "      <td>41</td>\n",
       "      <td>0.325397</td>\n",
       "      <td>0.041906</td>\n",
       "      <td>0.470393</td>\n",
       "    </tr>\n",
       "    <tr>\n",
       "      <th>Intervention</th>\n",
       "      <td>132</td>\n",
       "      <td>44</td>\n",
       "      <td>0.333333</td>\n",
       "      <td>0.041187</td>\n",
       "      <td>0.473200</td>\n",
       "    </tr>\n",
       "  </tbody>\n",
       "</table>\n",
       "</div>"
      ],
      "text/plain": [
       "              number_users  number_booked  booking_rate  std_error   std_dev\n",
       "test_group                                                                  \n",
       "Control                126             41      0.325397   0.041906  0.470393\n",
       "Intervention           132             44      0.333333   0.041187  0.473200"
      ]
     },
     "execution_count": 20,
     "metadata": {},
     "output_type": "execute_result"
    }
   ],
   "source": [
    "summary_table = df_clean.groupby('test_group').agg({'booked': ['count', 'sum', 'mean', 'sem','std']}) # create aggregated table. The mean will be equal to the booking_rate\n",
    "summary_table.columns = ['number_users','number_booked', 'booking_rate', 'std_error', 'std_dev'] #renamed columns\n",
    "summary_table"
   ]
  },
  {
   "cell_type": "code",
   "execution_count": 23,
   "metadata": {},
   "outputs": [
    {
     "name": "stdout",
     "output_type": "stream",
     "text": [
      "The intervention group booking rate of 33.33 percent is 2.44 percent higher (or 0.79 percentage points higher) than control group booking rate of 32.54\n"
     ]
    }
   ],
   "source": [
    "# calculating the relative uplift (difference between test_groups)\n",
    "intervention_booking_rate = summary_table.loc['Intervention','booking_rate']\n",
    "control_booking_rate = summary_table.loc['Control','booking_rate']\n",
    "percentage_points_difference = intervention_booking_rate - control_booking_rate\n",
    "relative_uplift = percentage_points_difference / control_booking_rate\n",
    "\n",
    "# printing a statement which summarises the difference\n",
    "print('The intervention group booking rate of',\n",
    "    round(100 * intervention_booking_rate,2), 'percent is',\n",
    "    100*round(relative_uplift,4) ,'percent higher (or',round(100*(percentage_points_difference),2),\n",
    "    'percentage points higher) than control group booking rate of', round(100*control_booking_rate,2))"
   ]
  },
  {
   "cell_type": "markdown",
   "metadata": {},
   "source": [
    "There is only a very small difference in the booking rates between the two groups and the varience within these groups is close to equal. The high error score flags a high chance of us making a Type II error - where we incorrecly conclude that the null hypothesis is true.\n",
    "## Evaluation method 1: two proportions z test"
   ]
  },
  {
   "cell_type": "markdown",
   "metadata": {},
   "source": [
    "The two-proportions-z-test is the appropriate statistical test because our data - being binary - summarises to proprotions (percentages). A two-proportion-z-test allows you to compare two proportions to see if they are the same. Other statistical tests such as the student-t-test could also be used. All of the assumptions for this test are met (independant samples, radomization condition, success/fauilure condition).\n",
    "\n",
    "\n",
    "Running the test: "
   ]
  },
  {
   "cell_type": "code",
   "execution_count": 22,
   "metadata": {},
   "outputs": [
    {
     "name": "stdout",
     "output_type": "stream",
     "text": [
      "z statistic: -0.14\n",
      "two_tailed_p-value: 0.892\n",
      "one_tailed_p-value: 0.446\n",
      "confidence interval 95% for the control group: [0.244, 0.407]\n",
      "confidence interval 95% for the intervention group: [0.253, 0.414]\n"
     ]
    }
   ],
   "source": [
    "# setting the variables required for the test\n",
    "significance = 0.05\n",
    "intervention_n = summary_table.loc['Intervention','number_users']\n",
    "control_n = summary_table.loc['Control','number_users']\n",
    "intervention_success = summary_table.loc['Intervention','number_booked']\n",
    "control_success = summary_table.loc['Control','number_booked']\n",
    "successes = np.array([control_success, intervention_success])\n",
    "nobs = np.array([control_n, intervention_n])\n",
    "\n",
    "# running the test\n",
    "z_stat, pval = proportions_ztest(successes, nobs=nobs)\n",
    "\n",
    "# running the confidence intervals\n",
    "(lower_control, lower_intervention), (upper_control, upper_intervention) = proportion_confint(successes, nobs=nobs, alpha=0.05)\n",
    "\n",
    "# printing the results\n",
    "print(f'z statistic: {z_stat:.2f}')\n",
    "print(f'two_tailed_p-value: {pval:.3f}')\n",
    "print(f'one_tailed_p-value: {pval/2.0:.3f}')\n",
    "print(f'confidence interval 95% for the control group: [{lower_control:.3f}, {upper_control:.3f}]')\n",
    "print(f'confidence interval 95% for the intervention group: [{lower_intervention:.3f}, {upper_intervention:.3f}]')\n",
    "# jono - can I confirm that this test is creating ditribution of the overall proportion rate and \n",
    "# then using the z score of the interventon group proportion against that distribution to determine the p_value? A one tail test is not directional then right?, \n",
    "# so it's going to be less relevant than the permutations test (method 2)\n"
   ]
  },
  {
   "cell_type": "markdown",
   "metadata": {},
   "source": [
    "The results confirm that the difference is **not statistically significant**. Specifically, the one_tailed_p_value (which is what we care about for this hypothesis) means that there is a **44.6 percent chance that this same or greater level of uplift could be seen by random chance**. However, the large confidence intervals (the values that we are 95% confident the true value lies between) make it highly likely that accepting the null would be the result of a Type II error. We investigate this later in the power analysis section.\n",
    "\n",
    "\n",
    "Visualising the result"
   ]
  },
  {
   "cell_type": "code",
   "execution_count": 28,
   "metadata": {},
   "outputs": [
    {
     "data": {
      "image/png": "[encoded data removed]",
      "text/plain": [
       "<Figure size 432x288 with 1 Axes>"
      ]
     },
     "metadata": {
      "needs_background": "light"
     },
     "output_type": "display_data"
    }
   ],
   "source": [
    "# jono - I think this visualisation in uneccessary, what do you think?\n",
    "std_control_booking_rate = np.sqrt(control_booking_rate * (1 - control_booking_rate) / control_n)\n",
    "std_intervention_booking_rate = np.sqrt(intervention_booking_rate * (1 - intervention_booking_rate) / intervention_n)\n",
    "click_rate = np.linspace(0.1, 0.55, 500)\n",
    "prob_control = stats.norm(control_booking_rate,std_control_booking_rate).pdf(click_rate)\n",
    "prob_intervention = stats.norm(intervention_booking_rate,std_intervention_booking_rate).pdf(click_rate)\n",
    "plt.plot(click_rate, prob_control, label=\"Control\", color = 'black')\n",
    "plt.plot(click_rate, prob_intervention, label=\"Intervention\", color = 'orange')\n",
    "plt.xlabel(\"Booking rate\"); plt.ylabel(\"Probability\");"
   ]
  },
  {
   "cell_type": "code",
   "execution_count": 32,
   "metadata": {},
   "outputs": [
    {
     "name": "stdout",
     "output_type": "stream",
     "text": [
      "Zscore is -0.57, p-value is 0.567 (two tailed), 0.284 (one tailed)\n"
     ]
    }
   ],
   "source": [
    "# jono - here is the students t test which I'm not planning on including but for reference when\n",
    "#  trying to understand the difference between this and the proptions test (noting the result is almost identical)\n",
    "control_values_slice = df[df.test_group == 'Control']\n",
    "intervention_values_slice = df[df.test_group == 'Intervention']\n",
    "control_values = control_values_slice['booked'].astype(int).to_numpy()\n",
    "intervention_values = intervention_values_slice['booked'].astype(int).to_numpy()\n",
    "zscore, prob = ttest_ind(control_values, intervention_values, equal_var=False)\n",
    "print(f\"Zscore is {zscore:0.2f}, p-value is {prob:0.3f} (two tailed), {prob/2:0.3f} (one tailed)\")"
   ]
  },
  {
   "cell_type": "markdown",
   "metadata": {},
   "source": [
    "## Evaluation method 2: permutations test\n",
    "A second method of evaluating the split test is the permutations method. The permutaitions test has the advantages not requring any assumptions and producing a test that is specific about the direction of our hypothesis. \n",
    "\n",
    "This test is a simulation where users from our split test are allocated to a a control group and intervention group randomly. It works by completing many runs of the following process:\n",
    "1. Randomly allocating the users (and their booking status) to a test group and an intervention group of the same size. \n",
    "2. Calulating the difference of between the booking rate's of these two groups.\n",
    "When distributing the differences between these these groups we can test the simulated probability of an the uplift we see occuring by random chance.\n",
    "\n",
    "Running the test:"
   ]
  },
  {
   "cell_type": "code",
   "execution_count": 24,
   "metadata": {},
   "outputs": [
    {
     "name": "stdout",
     "output_type": "stream",
     "text": [
      "[2.3088023088023135, 12.37373737373737, -10.858585858585855, 2.3088023088023135, 1.5512265512265557, -0.03607503607503304, -10.101010101010097, -0.03607503607503304, 5.375180375180378, 7.720057720057717]\n"
     ]
    }
   ],
   "source": [
    "all_values = df_clean['booked'].astype(int).to_list() # grabbing all the booking status into a binary array\n",
    "permuntations = 10000 # number of permutations\n",
    "permuntations_results = [0]*permuntations # list for permuntation results\n",
    "\n",
    "# this loop allocates the values into two groups the sizes of the control and intervention group and adds calculated difference into the permulation_results list\n",
    "for i in range(permuntations):\n",
    "    shuffled_values = sample(all_values, k=len(all_values)) # shuffle the booked values\n",
    "    sim_intervention_group = shuffled_values[:intervention_n] # takes last intervention n values for group a\n",
    "    sim_control_group = shuffled_values[control_n:] # takes the first control n values for group b\n",
    "    sim_intv_booking_rate = 100* sum(sim_intervention_group) / intervention_n # calculates booking rate for the simulated intervention group\n",
    "    sim_con_booking_rate = 100* sum(sim_control_group) / control_n # calculates the booking rate for the simulated control group\n",
    "    permuntations_results[i] = sim_intv_booking_rate - sim_con_booking_rate # calulates the difference and adds to the list\n",
    "\n",
    "print(permuntations_results[:10])"
   ]
  },
  {
   "cell_type": "markdown",
   "metadata": {},
   "source": [
    "Now to evaluate the groud truth (difference between the Intervention group and control group's rates) against our simulated results."
   ]
  },
  {
   "cell_type": "code",
   "execution_count": 97,
   "metadata": {},
   "outputs": [
    {
     "name": "stdout",
     "output_type": "stream",
     "text": [
      "One=way: Extreme count:  3268 \n",
      "One-way: p-value: 0.3268\n"
     ]
    }
   ],
   "source": [
    "# creating a series of the permutation results\n",
    "permuntations_results_series = pd.Series(permuntations_results)\n",
    "\n",
    "# bringing the pertage point difference onto the same scale as the series\n",
    "ground_truth = 100*percentage_points_difference \n",
    "\n",
    "# calulating the number of results that are equal to or higher than the ground truth\n",
    "pos_extreme_count = sum(permuntations_results_series >= ground_truth)\n",
    "print('One=way: Extreme count: ', pos_extreme_count,\n",
    "      '\\nOne-way: p-value:', pos_extreme_count / permuntations) # printing results"
   ]
  },
  {
   "cell_type": "markdown",
   "metadata": {},
   "source": [
    "Our permutations test shows 32% probability that the same or greater difference in booking rates would be achieved by random chance. Visualising this result: "
   ]
  },
  {
   "cell_type": "code",
   "execution_count": 98,
   "metadata": {},
   "outputs": [
    {
     "data": {
      "text/plain": [
       "<seaborn.axisgrid.FacetGrid at 0x21ae6be7340>"
      ]
     },
     "execution_count": 98,
     "metadata": {},
     "output_type": "execute_result"
    },
    {
     "data": {
      "image/png": "[encoded data removed]",
      "text/plain": [
       "<Figure size 360x360 with 1 Axes>"
      ]
     },
     "metadata": {},
     "output_type": "display_data"
    }
   ],
   "source": [
    "sns.set_style('darkgrid') # display settings\n",
    "\n",
    "ax = sns.displot(data=permuntations_results_series, # creating plot\n",
    "                 kde= True, \n",
    "                 legend = True)  \n",
    "\n",
    "plt.axvline(x = ground_truth, color='red', label = 'ground_truth') #plotting observed difference as a red line\n",
    "\n",
    "ax.set( xlabel = \"simulated booking rate difference\", ylabel = \"permutation results count\")\n"
   ]
  },
  {
   "cell_type": "markdown",
   "metadata": {},
   "source": [
    "What we see here is the distribution of simulated booking rate differences and the difference observed in our split test as the red line. As we can see the red line is almost central to the distribution mean it is a very probable outcome of random chance. "
   ]
  },
  {
   "cell_type": "markdown",
   "metadata": {},
   "source": [
    "## Power analysis\n",
    "We mentioned that the chance of us making a type II error and incorrecly accepting that there is no difference (saying our dashboard is not better when it is) could be high. The likelyhood of making this type II error can be calculated by something called statistical power analysis. We can we can also use this analysis to determine the number of samples we require based on the level of difference we want to detect: the more samples we have, the more confident we are that the observed booking rate is the \"true\" booking rate.\n",
    "\n",
    "First let's calculate the number of samples required to observe the difference we are currently seeing with a low probability of a type II error."
   ]
  },
  {
   "cell_type": "code",
   "execution_count": 108,
   "metadata": {},
   "outputs": [
    {
     "name": "stdout",
     "output_type": "stream",
     "text": [
      " A sample size of 55047 is required to observe the relative uplift of 2.44 with only a 20% probability of a type II error\n"
     ]
    }
   ],
   "source": [
    "effect_size = sms.proportion_effectsize(control_booking_rate, intervention_booking_rate)    # Calculating effect size based on our observed rates\n",
    "\n",
    "required_n = sms.NormalIndPower().solve_power(\n",
    "    effect_size, \n",
    "    power=0.8, \n",
    "    alpha=0.05, \n",
    "    ratio=1\n",
    "    )                                                  # Calculating sample size needed\n",
    "\n",
    "required_n = ceil(required_n)                          # Rounding up to next whole number                          \n",
    "\n",
    "print(' A sample size of', required_n, 'is required to observe the relative uplift of', \n",
    "     100*round(relative_uplift,4), 'with only a 20% probability of a type II error')\n",
    "\n",
    "# high chance of us rejecting the null incorrectly - type 2 error"
   ]
  },
  {
   "cell_type": "markdown",
   "metadata": {},
   "source": [
    "The number of sample sizes required is not realistic for out test or platform but then again neither is the realtive uplift enough we've observed enough to warrant a change to our current procedure. \n",
    "\n",
    "What we need to do is decide on the effect size we want to observe and tie it to our actions i.e. if we see an statistically significant uplift of 10% we will implement the new dashboard, otherwise our default action will be to continue with our current feature. \n",
    "\n",
    "The below table is designed to help us set up our next test accordingly. "
   ]
  },
  {
   "cell_type": "code",
   "execution_count": 26,
   "metadata": {},
   "outputs": [],
   "source": [
    "# setting viables for the power analysis\n",
    "power = 0.8\n",
    "alpha = 0.05\n",
    "ratio = 1\n",
    "\n",
    "control_base =  np.average(all_values) # using the booking_rate of the combined groups as a base\n",
    "perent_multiplier = 1.00 # adjust control_base to the intervention booking rate sought\n",
    "required_samples = [] # list for the number of required samples \n",
    "percent_difference_sought = [] # list for the percentage difference sought\n",
    "\n",
    "while perent_multiplier <= 2.00:\n",
    "    perent_multiplier = perent_multiplier + 0.05 # increments of 5%\n",
    "    intervention_sought = control_base * perent_multiplier # adjust base rate to be the appropriate % higher\n",
    "    effect_size = sms.proportion_effectsize(control_base, intervention_sought) # calculate effect size\n",
    "    required_n = sms.NormalIndPower().solve_power(effect_size, # calcuate power\n",
    "                                                  power = power, \n",
    "                                                  alpha = alpha, \n",
    "                                                  ratio = ratio)\n",
    "    required_n = ceil(required_n) # round samples to next number\n",
    "    percent_difference_sought.append((perent_multiplier-1)*100) # append sought to list\n",
    "    required_samples.append(required_n) # append samples to slist"
   ]
  },
  {
   "cell_type": "code",
   "execution_count": 27,
   "metadata": {},
   "outputs": [
    {
     "name": "stdout",
     "output_type": "stream",
     "text": [
      "+----+-----------------------------+------------------------+\n",
      "|    |   percent_difference_sought |   required_sample_size |\n",
      "|----+-----------------------------+------------------------|\n",
      "|  0 |                           5 |                  12937 |\n",
      "|  1 |                          10 |                   3271 |\n",
      "|  2 |                          15 |                   1469 |\n",
      "|  3 |                          20 |                    834 |\n",
      "|  4 |                          25 |                    539 |\n",
      "|  5 |                          30 |                    377 |\n",
      "|  6 |                          35 |                    279 |\n",
      "|  7 |                          40 |                    215 |\n",
      "|  8 |                          45 |                    171 |\n",
      "|  9 |                          50 |                    139 |\n",
      "| 10 |                          55 |                    116 |\n",
      "| 11 |                          60 |                     97 |\n",
      "| 12 |                          65 |                     83 |\n",
      "| 13 |                          70 |                     72 |\n",
      "| 14 |                          75 |                     63 |\n",
      "| 15 |                          80 |                     55 |\n",
      "| 16 |                          85 |                     49 |\n",
      "| 17 |                          90 |                     44 |\n",
      "| 18 |                          95 |                     39 |\n",
      "| 19 |                         100 |                     35 |\n",
      "+----+-----------------------------+------------------------+\n"
     ]
    }
   ],
   "source": [
    "results_dict = {'percent_difference_sought' : percent_difference_sought , #create dictionary with result data\n",
    "                'required_sample_size': required_samples}\n",
    "results_df = pd.DataFrame(results_dict) # convert to dataframe\n",
    "\n",
    "print(tabulate(results_df, #print table\n",
    "               headers = 'keys', \n",
    "               tablefmt = 'psql')) "
   ]
  },
  {
   "cell_type": "markdown",
   "metadata": {},
   "source": []
  },
  {
   "cell_type": "markdown",
   "metadata": {},
   "source": [
    "This table will assist us in setting up the next split test to avoid the risk of a type II error.\n",
    "## Conclusion\n",
    "In conclusion, the evaluation of this split test indicates there is not a statistically significant difference between the groups. The high confidence interval does spread some doubt, however, in our ability to accept the null hypthothes without error.\n",
    "\n",
    " Therefore, if we are content that this test accurately reflects our user base (in terms of the time the test was run and the number of users), we should interpret the result as a call to keep things as they are. If however, we are unsure, the power analysis conducted affords us the chance to run this test again and ensure that we collect enough samples to confidently avoid a type II error."
   ]
  }
 ],
 "metadata": {
  "interpreter": {
   "hash": "10f6624839bce9438640cddcc3799579e20d680ea30845a2387cdfb56b6d1d04"
  },
  "kernelspec": {
   "display_name": "Python 3.9.5 64-bit ('api_env': conda)",
   "language": "python",
   "name": "python3"
  },
  "language_info": {
   "codemirror_mode": {
    "name": "ipython",
    "version": 3
   },
   "file_extension": ".py",
   "mimetype": "text/x-python",
   "name": "python",
   "nbconvert_exporter": "python",
   "pygments_lexer": "ipython3",
   "version": "3.9.5"
  },
  "orig_nbformat": 4
 },
 "nbformat": 4,
 "nbformat_minor": 2
}
